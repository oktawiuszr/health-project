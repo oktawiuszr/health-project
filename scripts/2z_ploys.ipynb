{
 "cells": [
  {
   "cell_type": "markdown",
   "id": "9ae615bd",
   "metadata": {},
   "source": [
    "Plots for burden of disorder"
   ]
  },
  {
   "cell_type": "code",
   "execution_count": null,
   "id": "936c82a9",
   "metadata": {},
   "outputs": [],
   "source": [
    "import pandas as pd\n",
    "import seaborn as sns\n",
    "import matplotlib.pyplot as plt\n",
    "import glob\n",
    "\n",
    "path = \"./../data/burden/*\"\n",
    "\n",
    "files = glob.glob(path)\n",
    "\n",
    "# Plots for each disorder and its burden in Poland, and in its neighbors\n",
    "for disorder in files:\n",
    "    data = pd.read_csv(disorder)\n",
    "    data[\"DALYs\"] = pd.to_numeric(data[\"DALYs\"], errors=\"coerce\")\n",
    "    data[\"Year\"] = data[\"Year\"].astype(str)\n",
    "    data = data.pivot(index=\"Country\", columns=\"Year\", values=\"DALYs\")\n",
    "    disorder = disorder.split(\"_\")[1]\n",
    "    print(disorder)\n",
    "\n",
    "    plt.figure(figsize=(10, 10))\n",
    "    sns.heatmap(data, cmap=\"Spectral\", fmt=\".1f\")\n",
    "\n",
    "    if disorder[:3] == \"Sch\" or disorder[:3] == \"Bip\":\n",
    "        plt.title(disorder + \"'s DALYs in and around Poland\")\n",
    "    else:\n",
    "        plt.title(disorder + \"' DALYs in and around Poland\")\n",
    "    plt.ylabel(\"Country\")\n",
    "    plt.xlabel(\"Year\")\n",
    "    plt.tight_layout()\n",
    "\n",
    "    plt.savefig(\"./../plots/burden_comparison_poland_vs_neighbors_\" + disorder)\n",
    "    plt.show()"
   ]
  },
  {
   "cell_type": "code",
   "execution_count": null,
   "id": "46c5df72",
   "metadata": {},
   "outputs": [],
   "source": [
    "import pandas as pd\n",
    "import seaborn as sns\n",
    "import matplotlib.pyplot as plt\n",
    "\n",
    "path = \"./../results/final_comparison.csv\"\n",
    "\n",
    "# Separation by disorder\n",
    "data = pd.read_csv(path)\n",
    "disorders = data[\"Disorder\"].unique()\n",
    "\n",
    "for disorder in disorders:\n",
    "    data = pd.read_csv(path)\n",
    "    data = data[data[\"Disorder\"] == disorder]\n",
    "\n",
    "    data[\"DALYs\"] = pd.to_numeric(data[\"DALYs\"], errors=\"coerce\")\n",
    "    data[\"Year\"] = data[\"Year\"].astype(str)\n",
    "\n",
    "    data = data.pivot(index=\"Region\", columns=\"Year\", values=\"DALYs\")\n",
    "\n",
    "    # Plots for each disorder and comparison of burden of disorder(DALYs) for WHO data and arithmetric average based on DAYLs of coutries associated with particaular WHO region\n",
    "    plt.figure(figsize=(10, 10))\n",
    "    print(disorder[:3])\n",
    "    print(disorder)\n",
    "    if disorder[:3] == \"Sch\" or disorder[:3] == \"Bip\":\n",
    "        plt.title(\n",
    "            disorder\n",
    "            + \"\\'s DALYs for WHO regions; based on WHO data and calculated average\"\n",
    "        )\n",
    "    else:\n",
    "        plt.title(\n",
    "            disorder\n",
    "            + \"\\' DALYs for WHO regions; based on WHO data and calculated average\"\n",
    "        )\n",
    "\n",
    "    plt.xticks(ticks=range(0, 30, 3))\n",
    "    plt.xlabel(\"Year\")\n",
    "    plt.ylabel(\"Region\")\n",
    "    sns.heatmap(data, cmap=\"Spectral\", fmt=\".1f\")\n",
    "    plt.tight_layout()\n",
    "    plt.savefig(\"./../plots/WHO_Regions_\" + disorder)\n",
    "    plt.show()"
   ]
  }
 ],
 "metadata": {
  "kernelspec": {
   "display_name": "Python 3",
   "language": "python",
   "name": "python3"
  },
  "language_info": {
   "codemirror_mode": {
    "name": "ipython",
    "version": 3
   },
   "file_extension": ".py",
   "mimetype": "text/x-python",
   "name": "python",
   "nbconvert_exporter": "python",
   "pygments_lexer": "ipython3",
   "version": "3.13.3"
  }
 },
 "nbformat": 4,
 "nbformat_minor": 5
}
