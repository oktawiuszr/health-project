{
 "cells": [
  {
   "cell_type": "code",
   "execution_count": null,
   "id": "9542bf82",
   "metadata": {},
   "outputs": [],
   "source": [
    "import pandas as pd\n",
    "\n",
    "datapath = \"./data/\"\n",
    "\n",
    "# Columns ajustment\n",
    "database = pd.read_csv(\"./../data/source/1- mental-illnesses-prevalence.csv\")\n",
    "database.columns = [col.split(\"disor\")[0].strip() for col in database.columns]\n",
    "database = database.drop(database.columns[[1]], axis=1)\n",
    "\n",
    "# Separation continents from countries\n",
    "\n",
    "continents = [\n",
    "    \"Africa (IHME GBD)\",\n",
    "    \"Antarctica (IHME GBD)\",\n",
    "    \"Asia (IHME GBD)\",\n",
    "    \"Europe (IHME GBD)\",\n",
    "    \"North America (IHME GBD)\",\n",
    "    \"Oceania (IHME GBD)\",\n",
    "    \"South America (IHME GBD)\",\n",
    "    \"America (IHME GBD)\",\n",
    "]\n",
    "countries = database[\"Entity\"].value_counts(dropna=False)\n",
    "\n",
    "# Only continents\n",
    "database_continents = database[database[\"Entity\"].isin(continents)]\n",
    "database_continents.to_csv(\"./../data/1a_continents.csv\", index=False)\n",
    "\n",
    "# Only countries\n",
    "database_countries = database[~database[\"Entity\"].isin(continents)]\n",
    "database_countries.to_csv(\"./../data/1b_countries.csv\", index=False)\n",
    "\n",
    "\n",
    "# Checking NaN data\n",
    "print(\"Number of NaN values in  contry's columns:\")\n",
    "print(database_countries.isnull().sum())\n",
    "\n",
    "# database_countries=datacountries.dropna()/ fillna()\n",
    "print(\"Number of NaN values in  continent's columns:\")\n",
    "print(database_continents.isnull().sum())\n",
    "\n",
    "# Checking data types:\n",
    "print(database_countries.dtypes)\n",
    "print(database[\"Entity\"].unique())"
   ]
  }
 ],
 "metadata": {
  "kernelspec": {
   "display_name": "Python 3",
   "language": "python",
   "name": "python3"
  },
  "language_info": {
   "codemirror_mode": {
    "name": "ipython",
    "version": 3
   },
   "file_extension": ".py",
   "mimetype": "text/x-python",
   "name": "python",
   "nbconvert_exporter": "python",
   "pygments_lexer": "ipython3",
   "version": "3.13.3"
  }
 },
 "nbformat": 4,
 "nbformat_minor": 5
}
