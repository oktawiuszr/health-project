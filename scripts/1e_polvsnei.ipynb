{
 "cells": [
  {
   "cell_type": "markdown",
   "id": "442ecd6d",
   "metadata": {},
   "source": [
    "Comparison polish data with their neighbors"
   ]
  },
  {
   "cell_type": "code",
   "execution_count": null,
   "id": "f6630e8b",
   "metadata": {},
   "outputs": [],
   "source": [
    "import pandas as pd\n",
    "from countryinfo import CountryInfo\n",
    "\n",
    "neighbors = [\n",
    "    \"Germany\",\n",
    "    \"Czechia\",\n",
    "    \"Slovakia\",\n",
    "    \"Ukraine\",\n",
    "    \"Belarus\",\n",
    "    \"Lithuania\",\n",
    "    \"Russia\",\n",
    "    \"Poland\",\n",
    "]\n",
    "\n",
    "whole_data = pd.read_csv(\"./../data/1b_countries.csv\")\n",
    "\n",
    "data_neighbors = whole_data[whole_data[\"Entity\"].isin(neighbors)]\n",
    "selected_data = pd.DataFrame(columns=[\"Entity\", \"Year\", \"Occurences\", \"Disorder\"])\n",
    "selected_data.to_csv(\"./../data/pol_com/comparison_all.csv\", index=False, header=True)\n",
    "\n",
    "for illness in data_neighbors.columns[2:]:\n",
    "    base = data_neighbors[[\"Entity\", \"Year\", illness]]\n",
    "    base[\"Disorder\"] = illness\n",
    "    base.to_csv(\n",
    "        \"./../data/pol_com/comparison_all.csv\", index=True, header=False, mode=\"a\"\n",
    "    )\n",
    "\n",
    "\n",
    "# Comparison by disorder\n",
    "data = pd.read_csv(\"./../data/pol_com/comparison_all.csv\")\n",
    "\n",
    "name_disorder = data[\"Disorder\"].unique().tolist()\n",
    "\n",
    "for illness in name_disorder:\n",
    "    path = \"./../data/pol_com/poland_\" + illness + \".csv\"\n",
    "\n",
    "    pol_vs_neighbors = pd.DataFrame(columns=[\"Country\", \"Year\", \"Occurences\"])\n",
    "    pol_vs_neighbors.to_csv(path, index=False, header=False)\n",
    "\n",
    "    base = data[data[\"Disorder\"] == illness]\n",
    "    base = base.drop(\"Disorder\", axis=1)\n",
    "    base = base.sort_values(\"Year\", ascending=True)\n",
    "\n",
    "    base = base.pivot(index=\"Year\", columns=\"Entity\", values=\"Occurences\")\n",
    "    base.to_csv(path, mode=\"a\", index=True, header=True)"
   ]
  }
 ],
 "metadata": {
  "kernelspec": {
   "display_name": "Python 3",
   "language": "python",
   "name": "python3"
  },
  "language_info": {
   "codemirror_mode": {
    "name": "ipython",
    "version": 3
   },
   "file_extension": ".py",
   "mimetype": "text/x-python",
   "name": "python",
   "nbconvert_exporter": "python",
   "pygments_lexer": "ipython3",
   "version": "3.13.3"
  }
 },
 "nbformat": 4,
 "nbformat_minor": 5
}
