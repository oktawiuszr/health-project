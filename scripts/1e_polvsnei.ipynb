{
 "cells": [
  {
   "cell_type": "markdown",
   "id": "442ecd6d",
   "metadata": {},
   "source": [
    "Comparison polish data with their neighboors"
   ]
  },
  {
   "cell_type": "code",
   "execution_count": 6,
   "id": "f6630e8b",
   "metadata": {},
   "outputs": [
    {
     "name": "stderr",
     "output_type": "stream",
     "text": [
      "C:\\Users\\oktaw\\AppData\\Local\\Temp\\ipykernel_35752\\3888773707.py:22: SettingWithCopyWarning: \n",
      "A value is trying to be set on a copy of a slice from a DataFrame.\n",
      "Try using .loc[row_indexer,col_indexer] = value instead\n",
      "\n",
      "See the caveats in the documentation: https://pandas.pydata.org/pandas-docs/stable/user_guide/indexing.html#returning-a-view-versus-a-copy\n",
      "  base[\"Disorder\"]=illness\n",
      "C:\\Users\\oktaw\\AppData\\Local\\Temp\\ipykernel_35752\\3888773707.py:22: SettingWithCopyWarning: \n",
      "A value is trying to be set on a copy of a slice from a DataFrame.\n",
      "Try using .loc[row_indexer,col_indexer] = value instead\n",
      "\n",
      "See the caveats in the documentation: https://pandas.pydata.org/pandas-docs/stable/user_guide/indexing.html#returning-a-view-versus-a-copy\n",
      "  base[\"Disorder\"]=illness\n",
      "C:\\Users\\oktaw\\AppData\\Local\\Temp\\ipykernel_35752\\3888773707.py:22: SettingWithCopyWarning: \n",
      "A value is trying to be set on a copy of a slice from a DataFrame.\n",
      "Try using .loc[row_indexer,col_indexer] = value instead\n",
      "\n",
      "See the caveats in the documentation: https://pandas.pydata.org/pandas-docs/stable/user_guide/indexing.html#returning-a-view-versus-a-copy\n",
      "  base[\"Disorder\"]=illness\n",
      "C:\\Users\\oktaw\\AppData\\Local\\Temp\\ipykernel_35752\\3888773707.py:22: SettingWithCopyWarning: \n",
      "A value is trying to be set on a copy of a slice from a DataFrame.\n",
      "Try using .loc[row_indexer,col_indexer] = value instead\n",
      "\n",
      "See the caveats in the documentation: https://pandas.pydata.org/pandas-docs/stable/user_guide/indexing.html#returning-a-view-versus-a-copy\n",
      "  base[\"Disorder\"]=illness\n",
      "C:\\Users\\oktaw\\AppData\\Local\\Temp\\ipykernel_35752\\3888773707.py:22: SettingWithCopyWarning: \n",
      "A value is trying to be set on a copy of a slice from a DataFrame.\n",
      "Try using .loc[row_indexer,col_indexer] = value instead\n",
      "\n",
      "See the caveats in the documentation: https://pandas.pydata.org/pandas-docs/stable/user_guide/indexing.html#returning-a-view-versus-a-copy\n",
      "  base[\"Disorder\"]=illness\n"
     ]
    }
   ],
   "source": [
    "import pandas as pd\n",
    "from countryinfo import CountryInfo\n",
    "\n",
    "neighboors= [\n",
    "    \"Germany\",\n",
    "    \"Czechia\",\n",
    "    \"Slovakia\",\n",
    "    \"Ukraine\",\n",
    "    \"Belarus\",\n",
    "    \"Lithuania\",\n",
    "    \"Russia\",\"Poland\"\n",
    "]\n",
    "\n",
    "whole_data=pd.read_csv(\"./../data/1b-countries.csv\")\n",
    "\n",
    "data_neigh=whole_data[whole_data[\"Entity\"].isin(neighboors)]\n",
    "selected_data=pd.DataFrame(columns=['Entity','Year',\"Occurences\",\"Disorder\"])\n",
    "selected_data.to_csv(\"./../data/pol_com/comparison_all.csv\",index=False,header=True)\n",
    "\n",
    "for illness in data_neigh.columns[2:]:\n",
    "    base=data_neigh[[\"Entity\",\"Year\",illness]]\n",
    "    base[\"Disorder\"]=illness\n",
    "    base.to_csv(\"./../data/pol_com/comparison_all.csv\",index=True,header=False,mode=\"a\")"
   ]
  },
  {
   "cell_type": "markdown",
   "id": "494eedeb",
   "metadata": {},
   "source": [
    "#compartison by disease\n",
    "\n",
    "    base = base.pivot(index=\"Year\", columns=\"Entity\", values=\"Occurences\")\n"
   ]
  },
  {
   "cell_type": "code",
   "execution_count": 7,
   "id": "42df941e",
   "metadata": {},
   "outputs": [],
   "source": [
    "data=pd.read_csv(\"./../data/pol_com/comparison_all.csv\")\n",
    "\n",
    "name_ill=data[\"Disorder\"].unique().tolist()\n",
    "\n",
    "for ill in name_ill:\n",
    "    path=\"./../data/pol_com/poland_\"+ill+\".csv\"\n",
    "    convspol=pd.DataFrame(columns=[\"Country\",\"Year\",\"Occurences\"])\n",
    "    convspol.to_csv(path, index=False,header=False)\n",
    "    base= data[data[\"Disorder\"]==ill]\n",
    "    base=base.drop(\"Disorder\",axis=1)\n",
    "    base=base.sort_values(\"Year\",ascending=True)\n",
    "    base = base.pivot(index=\"Year\", columns=\"Entity\", values=\"Occurences\")\n",
    "    base.to_csv(path,mode=\"a\",index=True, header=True)"
   ]
  }
 ],
 "metadata": {
  "kernelspec": {
   "display_name": "Python 3",
   "language": "python",
   "name": "python3"
  },
  "language_info": {
   "codemirror_mode": {
    "name": "ipython",
    "version": 3
   },
   "file_extension": ".py",
   "mimetype": "text/x-python",
   "name": "python",
   "nbconvert_exporter": "python",
   "pygments_lexer": "ipython3",
   "version": "3.13.3"
  }
 },
 "nbformat": 4,
 "nbformat_minor": 5
}
