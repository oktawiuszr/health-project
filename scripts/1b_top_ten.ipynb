{
 "cells": [
  {
   "cell_type": "code",
   "execution_count": 1,
   "id": "bebe2991",
   "metadata": {},
   "outputs": [],
   "source": [
    "import pandas as pd\n",
    "\n",
    "countries = pd.read_csv(\"./../data/1b_countries.csv\")\n",
    "\n",
    "for cols in countries.columns[2:]:\n",
    "    base = countries[[\"Entity\", \"Year\", cols]]\n",
    "    top_rows = base.sort_values(cols, ascending=False).head(50)\n",
    "    low_rows = base.sort_values(cols, ascending=True).head(50)\n",
    "    top_rows.to_csv(\"./../data/top_disorder/top_rows_\" + cols + \".csv\", index=False)\n",
    "    low_rows.to_csv(\"./../data/top_disorder/low_rows_\" + cols + \".csv\", index=False)"
   ]
  }
 ],
 "metadata": {
  "kernelspec": {
   "display_name": "Python 3",
   "language": "python",
   "name": "python3"
  },
  "language_info": {
   "codemirror_mode": {
    "name": "ipython",
    "version": 3
   },
   "file_extension": ".py",
   "mimetype": "text/x-python",
   "name": "python",
   "nbconvert_exporter": "python",
   "pygments_lexer": "ipython3",
   "version": "3.13.3"
  }
 },
 "nbformat": 4,
 "nbformat_minor": 5
}
