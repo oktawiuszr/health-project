{
 "cells": [
  {
   "cell_type": "markdown",
   "id": "b9886758",
   "metadata": {},
   "source": [
    "Analysis of Poland, and comparison to its neigbors"
   ]
  },
  {
   "cell_type": "code",
   "execution_count": null,
   "id": "002be712",
   "metadata": {},
   "outputs": [],
   "source": [
    "import pandas as pd\n",
    "\n",
    "poland_data = pd.read_csv(\"./../data/1b_countries.csv\")\n",
    "poland_filtered = poland_data[poland_data[\"Entity\"] == \"Poland\"]\n",
    "poland = poland_filtered.drop([\"Entity\"], axis=1)\n",
    "\n",
    "# The most common, and at least common disorder in Poland\n",
    "all_poland = pd.DataFrame(columns=[\"Year\", \"Occurences\", \"Disorder\"])\n",
    "all_poland.to_csv(\"./../data/poland/all_poland.csv\", index=False, header=True)\n",
    "\n",
    "for illness in poland.columns[1:]:\n",
    "    base = poland[[\"Year\", illness]]\n",
    "    top_rows = base.sort_values(illness, ascending=False)\n",
    "    top_rows.to_csv(\"./../data/poland/\" + illness + \".csv\")\n",
    "    top_rows[\"Disorder\"] = illness\n",
    "    top_rows.to_csv(\n",
    "        \"./../data/poland/all_poland.csv\", mode=\"a\", header=False, index=True\n",
    "    )\n",
    "\n",
    "# The most common mental disorder in Poland\n",
    "poland_all = pd.read_csv(\"./../data/poland/all_poland.csv\")\n",
    "\n",
    "top_poland = pd.DataFrame(columns=[\"Disorder\", \"Min\", \"Max\", \"Mean\", \"Rankinng\"])\n",
    "top_poland.to_csv(\"./../results/exstremes_poland.csv\", index=False, header=True)\n",
    "\n",
    "\n",
    "poland_all = poland_all.sort_values(\"Occurences\", ascending=False)\n",
    "most_common = poland_all.head(50)\n",
    "most_common_sum = (\n",
    "    most_common.groupby(\"Disorder\")[\"Occurences\"]\n",
    "    .agg([\"min\", \"max\", \"mean\", \"count\"])\n",
    "    .sort_values(\"max\", ascending=False)\n",
    ")\n",
    "most_common_sum[\"Ranking\"] = \"Top\"\n",
    "most_common_sum.to_csv(\n",
    "    \"./../results/exstremes_poland.csv\", index=True, header=False, mode=\"a\"\n",
    ")\n",
    "\n",
    "# The least common mental disorder in Poland\n",
    "\n",
    "poland_all = poland_all.sort_values(\"Occurences\", ascending=True)\n",
    "\n",
    "least_common = poland_all.head(50)\n",
    "least_common_sum = (\n",
    "    least_common.groupby(\"Disorder\")[\"Occurences\"]\n",
    "    .agg([\"min\", \"max\", \"mean\", \"count\"])\n",
    "    .sort_values(\"max\", ascending=True)\n",
    ")\n",
    "least_common_sum[\"Ranking\"] = \"Low\"\n",
    "least_common_sum.to_csv(\n",
    "    \"./../results/exstremes_poland.csv\", index=True, header=False, mode=\"a\"\n",
    ")"
   ]
  },
  {
   "cell_type": "markdown",
   "id": "02c891e0",
   "metadata": {},
   "source": []
  },
  {
   "cell_type": "code",
   "execution_count": null,
   "id": "0ec846a4",
   "metadata": {},
   "outputs": [],
   "source": []
  }
 ],
 "metadata": {
  "kernelspec": {
   "display_name": "Python 3",
   "language": "python",
   "name": "python3"
  },
  "language_info": {
   "codemirror_mode": {
    "name": "ipython",
    "version": 3
   },
   "file_extension": ".py",
   "mimetype": "text/x-python",
   "name": "python",
   "nbconvert_exporter": "python",
   "pygments_lexer": "ipython3",
   "version": "3.13.3"
  }
 },
 "nbformat": 4,
 "nbformat_minor": 5
}
