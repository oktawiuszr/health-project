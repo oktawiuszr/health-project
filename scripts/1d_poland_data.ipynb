{
 "cells": [
  {
   "cell_type": "markdown",
   "id": "b9886758",
   "metadata": {},
   "source": [
    "Data from poland\n",
    "Comparison to neighboor countries\n"
   ]
  },
  {
   "cell_type": "markdown",
   "id": "ccb866a3",
   "metadata": {},
   "source": [
    "1. Data from poland\n",
    "2. Cleaning"
   ]
  },
  {
   "cell_type": "code",
   "execution_count": 11,
   "id": "002be712",
   "metadata": {},
   "outputs": [],
   "source": [
    "import pandas as pd\n",
    "\n",
    "poland_data=pd.read_csv(\"./../data/1b-countries.csv\")\n",
    "poland_filtered=poland_data[poland_data[\"Entity\"]==\"Poland\"]\n",
    "poland=poland_filtered.drop([\"Entity\"],axis=1)"
   ]
  },
  {
   "cell_type": "markdown",
   "id": "132b9fa0",
   "metadata": {},
   "source": [
    "The most common, and at least disorder:"
   ]
  },
  {
   "cell_type": "code",
   "execution_count": 12,
   "id": "30e91568",
   "metadata": {},
   "outputs": [],
   "source": [
    "all_poland=pd.DataFrame(columns=[\"Year\",\"Occurences\",\"Disorder\"])\n",
    "all_poland.to_csv(\"./../data/poland/all_poland.csv\",index=False,header=True)\n",
    "\n",
    "for ilness in poland.columns[1:]:\n",
    "    base=poland[[\"Year\",ilness]]\n",
    "    top_rows=base.sort_values(ilness,ascending=False)\n",
    "    top_rows.to_csv(\"./../data/poland/\"+ilness+\".csv\")\n",
    "    top_rows[\"Disorder\"]=ilness\n",
    "    top_rows.to_csv(\"./../data/poland/all_poland.csv\", mode=\"a\",header=False,index=True)"
   ]
  },
  {
   "cell_type": "markdown",
   "id": "02c891e0",
   "metadata": {},
   "source": [
    "The most common mental disorder in poland"
   ]
  },
  {
   "cell_type": "code",
   "execution_count": 13,
   "id": "0ec846a4",
   "metadata": {},
   "outputs": [],
   "source": [
    "import pandas as pd\n",
    "poland_all=pd.read_csv(\"./../data/poland/all_poland.csv\")\n",
    "\n",
    "top_poland=pd.DataFrame(columns=[\"Disorder\",\"Min\",'Max',\"Mean\",\"Rankinng\"])\n",
    "top_poland.to_csv(\"./../results/exstremes_poland.csv\",index=False,header=True)\n",
    "\n",
    "\n",
    "poland_all=poland_all.sort_values(\"Occurences\",ascending=False)\n",
    "most_common=poland_all.head(70)\n",
    "most_common_sum=most_common.groupby(\"Disorder\")[\"Occurences\"].agg(['min','max','mean','count']).sort_values(\"max\",ascending=False)\n",
    "most_common_sum[\"Ranking\"]=\"Top\"\n",
    "most_common_sum.to_csv(\"./../results/exstremes_poland.csv\",index=True,header=False,mode=\"a\")\n",
    "\n",
    "poland_all=poland_all.sort_values(\"Occurences\",ascending=True)\n",
    "least_common=poland_all.head(70)\n",
    "least_common_sum=least_common.groupby(\"Disorder\")[\"Occurences\"].agg(['min','max','mean','count']).sort_values(\"max\",ascending=True)\n",
    "least_common_sum[\"Ranking\"]=\"Low\"\n",
    "least_common_sum.to_csv(\"./../results/exstremes_poland.csv\",index=True,header=False,mode=\"a\")\n",
    "\n"
   ]
  }
 ],
 "metadata": {
  "kernelspec": {
   "display_name": "Python 3",
   "language": "python",
   "name": "python3"
  },
  "language_info": {
   "codemirror_mode": {
    "name": "ipython",
    "version": 3
   },
   "file_extension": ".py",
   "mimetype": "text/x-python",
   "name": "python",
   "nbconvert_exporter": "python",
   "pygments_lexer": "ipython3",
   "version": "3.13.3"
  }
 },
 "nbformat": 4,
 "nbformat_minor": 5
}
