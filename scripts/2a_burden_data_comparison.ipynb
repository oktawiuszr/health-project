{
 "cells": [
  {
   "cell_type": "markdown",
   "id": "d1ca60a7",
   "metadata": {},
   "source": [
    "Comparison of data related to all countries, and continents():\n",
    "1. Colection of data from countries\n",
    "2.Collection of data from continents\n",
    "3. Couning manually average related to continents based on counties data\n",
    "4.Comparison of diferences with WHO data\n"
   ]
  },
  {
   "cell_type": "code",
   "execution_count": null,
   "id": "bbc04b05",
   "metadata": {},
   "outputs": [],
   "source": [
    "import pandas as pd\n",
    "\n",
    "whole_data = pd.read_csv(\n",
    "    \"./../data/source/2- burden-disease-from-each-mental-illness(1).csv\"\n",
    ")\n",
    "# data_orgin = whole_data[\"Entity\"].unique()\n",
    "whole_data.columns = [\n",
    "    col.split(\" Cause: \")[1].strip() if \" Cause:\" in col else col\n",
    "    for col in whole_data.columns\n",
    "]\n",
    "\n",
    "# WHO data collection - data inspection\n",
    "WHO = whole_data[whole_data[\"Entity\"].str.contains(r\"\\(WHO\\)\", regex=True)]\n",
    "who_regions = pd.read_csv(\"./../data/source/who_region_mapping.csv\")"
   ]
  },
  {
   "cell_type": "markdown",
   "id": "f15bd26a",
   "metadata": {},
   "source": [
    "Fixing names of region, and attributing ISO Code to country"
   ]
  },
  {
   "cell_type": "code",
   "execution_count": null,
   "id": "9d14fac1",
   "metadata": {},
   "outputs": [
    {
     "name": "stderr",
     "output_type": "stream",
     "text": [
      "C:\\Users\\oktaw\\AppData\\Local\\Temp\\ipykernel_18956\\2913781542.py:31: SettingWithCopyWarning: \n",
      "A value is trying to be set on a copy of a slice from a DataFrame.\n",
      "Try using .loc[row_indexer,col_indexer] = value instead\n",
      "\n",
      "See the caveats in the documentation: https://pandas.pydata.org/pandas-docs/stable/user_guide/indexing.html#returning-a-view-versus-a-copy\n",
      "  countries[\"Entity_Corrected\"] = countries[\"Entity\"].replace(manual_corrections)\n",
      "C:\\Users\\oktaw\\AppData\\Local\\Temp\\ipykernel_18956\\2913781542.py:32: SettingWithCopyWarning: \n",
      "A value is trying to be set on a copy of a slice from a DataFrame.\n",
      "Try using .loc[row_indexer,col_indexer] = value instead\n",
      "\n",
      "See the caveats in the documentation: https://pandas.pydata.org/pandas-docs/stable/user_guide/indexing.html#returning-a-view-versus-a-copy\n",
      "  countries[\"Code\"] = countries[\"Entity_Corrected\"].apply(get_iso3)\n"
     ]
    }
   ],
   "source": [
    "import pycountry\n",
    "\n",
    "# The function returns ISO3 code for country\n",
    "def get_iso3(country_name):\n",
    "    try:\n",
    "        return pycountry.countries.lookup(country_name).alpha_3\n",
    "    except LookupError:\n",
    "        return None\n",
    "\n",
    "# Manual correction of names of countries present in data base\n",
    "manual_corrections = {\n",
    "    \"England\": \"United Kingdom\",\n",
    "    \"Cote d'Ivoire\": \"Côte d’Ivoire\",\n",
    "    \"Democratic Republic of the Congo\": \"Congo, The Democratic Republic of the\",\n",
    "    \"Republic of Korea\": \"Korea, Republic of\",\n",
    "    \"Russia\": \"Russian Federation\",\n",
    "    \"Tanzania\": \"Tanzania, United Republic of\",\n",
    "    \"Vietnam\": \"Viet Nam\",\n",
    "    \"Iran\": \"Iran, Islamic Republic of\",\n",
    "    \"Syria\": \"Syrian Arab Republic\",\n",
    "    \"United States\": \"United States of America\",\n",
    "    \"Palestine\": \"Palestine, State of\",\n",
    "    \"Micronesia\": \"Micronesia, Federated States of\",\n",
    "    \"Moldova\": \"Moldova, Republic of\",\n",
    "    \"Bolivia\": \"Bolivia, Plurinational State of\",\n",
    "    \"Venezuela\": \"Venezuela, Bolivarian Republic of\",\n",
    "}\n",
    "\n",
    "# Appling correction to dataset\n",
    "countries = whole_data[~whole_data[\"Entity\"].str.contains(r\"\\(\", regex=True)].copy()\n",
    "countries = whole_data[~whole_data[\"Entity\"].str.contains(r\"\\(\", regex=True)]\n",
    "countries[\"Entity_Corrected\"] = countries[\"Entity\"].replace(manual_corrections)\n",
    "countries[\"Code\"] = countries[\"Entity_Corrected\"].apply(get_iso3)\n",
    "\n",
    "missing_iso = countries[countries[\"Code\"].isna()]  # countries without ISO3 country code\n",
    "\n",
    "who_regions[\"ISO3\"] = who_regions[\"Country\"].apply(get_iso3)\n",
    "who_regions_small = who_regions[[\"ISO3\", \"WHO_Region\"]]\n",
    "countries = countries.dropna(subset=[\"Code\"])\n",
    "countries = countries.merge(\n",
    "    who_regions_small, left_on=\"Code\", right_on=\"ISO3\", how=\"left\"\n",
    ")\n",
    "countries = countries.dropna(subset=[\"WHO_Region\"])\n",
    "countries.drop(columns=[\"ISO3\", \"Code\", \"Entity_Corrected\"], inplace=True)\n",
    "countries.to_csv(\"./../data/who_countries\")"
   ]
  },
  {
   "cell_type": "markdown",
   "id": "aa5011c6",
   "metadata": {},
   "source": [
    "Couning manually arithmetric average related to WHO regions based on countries data"
   ]
  },
  {
   "cell_type": "code",
   "execution_count": null,
   "id": "ec57ef02",
   "metadata": {},
   "outputs": [
    {
     "name": "stderr",
     "output_type": "stream",
     "text": [
      "C:\\Users\\oktaw\\AppData\\Local\\Temp\\ipykernel_18956\\2692165608.py:30: FutureWarning: The behavior of DataFrame concatenation with empty or all-NA entries is deprecated. In a future version, this will no longer exclude empty or all-NA columns when determining the result dtypes. To retain the old behavior, exclude the relevant entries before the concat operation.\n",
      "  new_region = pd.concat([new_region, new_row], ignore_index=True)\n",
      "C:\\Users\\oktaw\\AppData\\Local\\Temp\\ipykernel_18956\\2692165608.py:30: FutureWarning: The behavior of DataFrame concatenation with empty or all-NA entries is deprecated. In a future version, this will no longer exclude empty or all-NA columns when determining the result dtypes. To retain the old behavior, exclude the relevant entries before the concat operation.\n",
      "  new_region = pd.concat([new_region, new_row], ignore_index=True)\n",
      "C:\\Users\\oktaw\\AppData\\Local\\Temp\\ipykernel_18956\\2692165608.py:30: FutureWarning: The behavior of DataFrame concatenation with empty or all-NA entries is deprecated. In a future version, this will no longer exclude empty or all-NA columns when determining the result dtypes. To retain the old behavior, exclude the relevant entries before the concat operation.\n",
      "  new_region = pd.concat([new_region, new_row], ignore_index=True)\n",
      "C:\\Users\\oktaw\\AppData\\Local\\Temp\\ipykernel_18956\\2692165608.py:30: FutureWarning: The behavior of DataFrame concatenation with empty or all-NA entries is deprecated. In a future version, this will no longer exclude empty or all-NA columns when determining the result dtypes. To retain the old behavior, exclude the relevant entries before the concat operation.\n",
      "  new_region = pd.concat([new_region, new_row], ignore_index=True)\n",
      "C:\\Users\\oktaw\\AppData\\Local\\Temp\\ipykernel_18956\\2692165608.py:30: FutureWarning: The behavior of DataFrame concatenation with empty or all-NA entries is deprecated. In a future version, this will no longer exclude empty or all-NA columns when determining the result dtypes. To retain the old behavior, exclude the relevant entries before the concat operation.\n",
      "  new_region = pd.concat([new_region, new_row], ignore_index=True)\n",
      "C:\\Users\\oktaw\\AppData\\Local\\Temp\\ipykernel_18956\\2692165608.py:30: FutureWarning: The behavior of DataFrame concatenation with empty or all-NA entries is deprecated. In a future version, this will no longer exclude empty or all-NA columns when determining the result dtypes. To retain the old behavior, exclude the relevant entries before the concat operation.\n",
      "  new_region = pd.concat([new_region, new_row], ignore_index=True)\n"
     ]
    },
    {
     "name": "stdout",
     "output_type": "stream",
     "text": [
      "['African Region (WHO)' 'Eastern Mediterranean Region (WHO)'\n",
      " 'European Region (WHO)' 'Region of the Americas (WHO)'\n",
      " 'South-East Asia Region (WHO)' 'Western Pacific Region (WHO)']\n"
     ]
    }
   ],
   "source": [
    "WHO = whole_data[whole_data[\"Entity\"].str.contains(r\"\\(WHO\\)\", regex=True)]\n",
    "who_regions2 = countries[\"WHO_Region\"].unique()  # my files\n",
    "\n",
    "# Arithmetric acerage calculations for each WHO region and year\n",
    "for region in who_regions2:\n",
    "    region_data = countries[countries[\"WHO_Region\"] == region]\n",
    "    region_data = region_data.drop(columns=[\"Entity\", \"WHO_Region\"])\n",
    "    region_data = pd.melt(\n",
    "        region_data, id_vars=[\"Year\"], var_name=\"Disorder\", value_name=\"DALYs\"\n",
    "    )\n",
    "    disorders = region_data[\"Disorder\"].unique()\n",
    "    years = region_data[\"Year\"].unique()\n",
    "\n",
    "    new_region = pd.DataFrame(columns=[\"Year\", \"Disorder\", \"DALYs\"])\n",
    "    for disorder in disorders:\n",
    "        data = region_data[region_data[\"Disorder\"] == disorder]\n",
    "        for year in years:\n",
    "            year_data = data[data[\"Year\"] == year]\n",
    "            record = year_data[\"DALYs\"].mean()\n",
    "            new_row = pd.DataFrame(\n",
    "                [\n",
    "                    {\n",
    "                        \"Year\": year,\n",
    "                        \"Disorder\": disorder,\n",
    "                        \"DALYs\": record,\n",
    "                        \"Region\": region,\n",
    "                        \"Source\": \"Average\",\n",
    "                    }\n",
    "                ]\n",
    "            )\n",
    "            new_region = pd.concat([new_region, new_row], ignore_index=True)\n",
    "    new_region.to_csv(\"./../data/who_comp/new_\" + region)\n",
    "\n",
    "# Separating given data by WHO regions\n",
    "WHO = whole_data[whole_data[\"Entity\"].str.contains(r\"\\(WHO\\)\", regex=True)]\n",
    "regions = WHO[\"Entity\"].unique()\n",
    "print(regions)\n",
    "\n",
    "path = \"./../data/who_comp/who_\"\n",
    "\n",
    "WHO = WHO.drop(columns=[\"Code\"])\n",
    "\n",
    "for region in regions:\n",
    "    data = WHO[WHO[\"Entity\"] == region]\n",
    "    data = data.drop(columns=[\"Entity\"])\n",
    "    data = pd.melt(data, id_vars=\"Year\", var_name=\"Disorder\", value_name=\"DALYs\")\n",
    "\n",
    "    data[\"Region\"] = region\n",
    "    data[\"Source\"] = \"WHO\"\n",
    "\n",
    "    data.to_csv(path + region)"
   ]
  },
  {
   "cell_type": "markdown",
   "id": "ea5c9c30",
   "metadata": {},
   "source": [
    "Whole data - one dataset"
   ]
  },
  {
   "cell_type": "code",
   "execution_count": null,
   "id": "a5d94e46",
   "metadata": {},
   "outputs": [],
   "source": [
    "import pandas as pd\n",
    "import seaborn as sns\n",
    "import matplotlib.pyplot as plt\n",
    "import glob\n",
    "\n",
    "path_new = \"./../data/who_comp/new_*\"\n",
    "path_who = \"./../data/who_comp/who*\"\n",
    "# path = \"./../data/who_comp/\"\n",
    "\n",
    "files_new = glob.glob(path_new)\n",
    "files_who = glob.glob(path_who)\n",
    "\n",
    "data_list = [pd.read_csv(f) for f in files_new]\n",
    "combined_df = pd.concat(data_list, ignore_index=True)\n",
    "data_list_2 = [pd.read_csv(f) for f in files_who]\n",
    "combined_df2 = pd.concat(data_list_2, ignore_index=True)\n",
    "\n",
    "x = [combined_df, combined_df2]\n",
    "\n",
    "final_data = pd.concat(x, ignore_index=True)\n",
    "final_data.to_csv(\"./../results/final_comparison.csv\", index=False)"
   ]
  }
 ],
 "metadata": {
  "kernelspec": {
   "display_name": "Python 3",
   "language": "python",
   "name": "python3"
  },
  "language_info": {
   "codemirror_mode": {
    "name": "ipython",
    "version": 3
   },
   "file_extension": ".py",
   "mimetype": "text/x-python",
   "name": "python",
   "nbconvert_exporter": "python",
   "pygments_lexer": "ipython3",
   "version": "3.13.3"
  }
 },
 "nbformat": 4,
 "nbformat_minor": 5
}
