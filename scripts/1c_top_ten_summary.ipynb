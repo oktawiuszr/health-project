{
 "cells": [
  {
   "cell_type": "markdown",
   "id": "9cf500be",
   "metadata": {},
   "source": [
    "Summary file for top 10 higest and lowest occureces for each disorder"
   ]
  },
  {
   "cell_type": "code",
   "execution_count": null,
   "id": "965e01fe",
   "metadata": {},
   "outputs": [],
   "source": [
    "import pandas as pd\n",
    "import os\n",
    "data_path = \"./../data/top_disorder/\"\n",
    "\n",
    "top_30_data = [\n",
    "    file\n",
    "    for file in os.listdir(data_path)\n",
    "    if file.endswith(\".csv\") and file.startswith(\"top\")\n",
    "]\n",
    "\n",
    "low_30_dataa = [\n",
    "    file\n",
    "    for file in os.listdir(data_path)\n",
    "    if file.endswith(\".csv\") and file.startswith(\"low\")\n",
    "]\n",
    "\n",
    "\n",
    "df = pd.DataFrame(\n",
    "    columns=[\"Country\", \"Min\", \"Max\", \"Mean\", \"Count\", \"Disorder\", \"Ranking\"]\n",
    ")\n",
    "\n",
    "df.to_csv(\"./../results/exstremes_all.csv\", index=False, header=True)\n",
    "print(df)\n",
    "\n",
    "for top in top_30_data:\n",
    "    disorder_data = pd.read_csv(data_path + top)\n",
    "    illness_name = disorder_data.columns[2]\n",
    "    countries = disorder_data[\"Entity\"].unique()\n",
    "    scope = (\n",
    "        disorder_data.groupby(\"Entity\")[illness_name]\n",
    "        .agg([\"min\", \"max\", \"mean\", \"count\"])\n",
    "        .sort_values(\"max\", ascending=False)\n",
    "    )\n",
    "    scope[\"Disease\"] = illness_name\n",
    "    scope[\"Ranking\"] = \"Top\"\n",
    "    scope.to_csv(\"./../results/exstremes_all.csv\", mode=\"a\", header=False, index=True)\n",
    "\n",
    "for low in low_30_dataa:\n",
    "    disorder_data = pd.read_csv(data_path + low)\n",
    "    illness_name = disorder_data.columns[2]\n",
    "    countries = disorder_data[\"Entity\"].unique()\n",
    "    scope = (\n",
    "        disorder_data.groupby(\"Entity\")[illness_name]\n",
    "        .agg([\"min\", \"max\", \"mean\", \"count\"])\n",
    "        .sort_values(\"min\", ascending=True)\n",
    "    )\n",
    "    scope[\"Disease\"] = illness_name\n",
    "    scope[\"Ranking\"] = \"Low\"\n",
    "\n",
    "    print(scope.head(10), \"\\n\")\n",
    "    scope.to_csv(\"./../results/exstremes_all.csv\", mode=\"a\", header=False, index=True)"
   ]
  }
 ],
 "metadata": {
  "kernelspec": {
   "display_name": "Python 3",
   "language": "python",
   "name": "python3"
  },
  "language_info": {
   "codemirror_mode": {
    "name": "ipython",
    "version": 3
   },
   "file_extension": ".py",
   "mimetype": "text/x-python",
   "name": "python",
   "nbconvert_exporter": "python",
   "pygments_lexer": "ipython3",
   "version": "3.13.3"
  }
 },
 "nbformat": 4,
 "nbformat_minor": 5
}
