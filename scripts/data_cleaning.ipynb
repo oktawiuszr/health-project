{
 "cells": [
  {
   "cell_type": "code",
   "execution_count": 15,
   "id": "9542bf82",
   "metadata": {},
   "outputs": [],
   "source": [
    "import pandas as pd\n",
    "import glob\n",
    "import os"
   ]
  },
  {
   "cell_type": "code",
   "execution_count": 16,
   "id": "8a699889",
   "metadata": {},
   "outputs": [
    {
     "name": "stdout",
     "output_type": "stream",
     "text": [
      "./data/\n"
     ]
    }
   ],
   "source": [
    "datapath=\"./data/\"\n",
    "print(datapath)"
   ]
  },
  {
   "cell_type": "markdown",
   "id": "5af09fcc",
   "metadata": {},
   "source": [
    "Column adjustment"
   ]
  },
  {
   "cell_type": "code",
   "execution_count": 17,
   "id": "36f713de",
   "metadata": {},
   "outputs": [
    {
     "name": "stdout",
     "output_type": "stream",
     "text": [
      "        Entity  Year  Schizophrenia  Depressive   Anxiety   Bipolar    Eating\n",
      "0  Afghanistan  1990       0.223206    4.996118  4.713314  0.703023  0.127700\n",
      "1  Afghanistan  1991       0.222454    4.989290  4.702100  0.702069  0.123256\n"
     ]
    }
   ],
   "source": [
    "database1=pd.read_csv(\"./../data/1- mental-illnesses-prevalence.csv\")\n",
    "database1.columns=[col.split(\"disor\")[0].strip() for col in database1.columns]\n",
    "database12=database1.drop(database1.columns[[1]],axis=1)\n",
    "print(database12.head(2))"
   ]
  },
  {
   "cell_type": "markdown",
   "id": "aa70bbf9",
   "metadata": {},
   "source": [
    "Separation continents from countries"
   ]
  },
  {
   "cell_type": "code",
   "execution_count": 18,
   "id": "d5916753",
   "metadata": {},
   "outputs": [
    {
     "name": "stdout",
     "output_type": "stream",
     "text": [
      "Entity\n",
      "Afghanistan           30\n",
      "Africa (IHME GBD)     30\n",
      "Albania               30\n",
      "Algeria               30\n",
      "America (IHME GBD)    30\n",
      "                      ..\n",
      "Vietnam               30\n",
      "World                 30\n",
      "Yemen                 30\n",
      "Zambia                30\n",
      "Zimbabwe              30\n",
      "Name: count, Length: 214, dtype: int64\n",
      "                 Entity  Year  Schizophrenia  Depressive   Anxiety   Bipolar  \\\n",
      "30    Africa (IHME GBD)  1990       0.219527    4.602806  3.696839  0.607027   \n",
      "31    Africa (IHME GBD)  1991       0.219559    4.598041  3.695416  0.607090   \n",
      "32    Africa (IHME GBD)  1992       0.219579    4.593013  3.693819  0.607127   \n",
      "33    Africa (IHME GBD)  1993       0.219583    4.588568  3.692097  0.607134   \n",
      "34    Africa (IHME GBD)  1994       0.219556    4.586263  3.690115  0.607082   \n",
      "...                 ...   ...            ...         ...       ...       ...   \n",
      "1975  Europe (IHME GBD)  2015       0.277975    3.546587  4.596085  0.740408   \n",
      "1976  Europe (IHME GBD)  2016       0.278079    3.542790  4.591335  0.741251   \n",
      "1977  Europe (IHME GBD)  2017       0.278101    3.537174  4.584498  0.741899   \n",
      "1978  Europe (IHME GBD)  2018       0.277349    3.538158  4.577611  0.742381   \n",
      "1979  Europe (IHME GBD)  2019       0.275731    3.544327  4.564641  0.742839   \n",
      "\n",
      "        Eating  \n",
      "30    0.111027  \n",
      "31    0.110425  \n",
      "32    0.109845  \n",
      "33    0.109305  \n",
      "34    0.108813  \n",
      "...        ...  \n",
      "1975  0.314031  \n",
      "1976  0.317571  \n",
      "1977  0.320585  \n",
      "1978  0.322503  \n",
      "1979  0.324064  \n",
      "\n",
      "[120 rows x 7 columns]\n"
     ]
    }
   ],
   "source": [
    "continents = [\n",
    "    \"Africa (IHME GBD)\" ,\n",
    "    \"Antarctica (IHME GBD)\",\n",
    "    \"Asia (IHME GBD)\",\n",
    "    \"Europe (IHME GBD)\",\n",
    "    \"North America (IHME GBD)\",\n",
    "    \"Oceania (IHME GBD)\",\n",
    "    \"South America (IHME GBD)\",\n",
    "    \"America (IHME GBD)\"\n",
    "]\n",
    "counties=database12[\"Entity\"].value_counts(dropna=False)\n",
    "print(counties)\n",
    "databasecontinents=database12[database12[\"Entity\"].isin(continents)]\n",
    "print(databasecontinents)\n",
    "databasecontinents.to_csv(\"./../data/1a-continents only.csv\",index=False)\n",
    "#Only countries\n",
    "databasecontries=database12[~database12[\"Entity\"].isin(continents)]\n",
    "databasecontries.to_csv(\"./../data/1b-countries.csv\",index=False)"
   ]
  },
  {
   "cell_type": "markdown",
   "id": "f0746b37",
   "metadata": {},
   "source": [
    "Checking NaN data"
   ]
  },
  {
   "cell_type": "code",
   "execution_count": 19,
   "id": "f95af86d",
   "metadata": {},
   "outputs": [
    {
     "name": "stdout",
     "output_type": "stream",
     "text": [
      "Number of NaN values in  contry's columns:\n",
      "Entity           0\n",
      "Year             0\n",
      "Schizophrenia    0\n",
      "Depressive       0\n",
      "Anxiety          0\n",
      "Bipolar          0\n",
      "Eating           0\n",
      "dtype: int64\n",
      "Number of NaN values in  continent's columns:\n",
      "Entity           0\n",
      "Year             0\n",
      "Schizophrenia    0\n",
      "Depressive       0\n",
      "Anxiety          0\n",
      "Bipolar          0\n",
      "Eating           0\n",
      "dtype: int64\n"
     ]
    }
   ],
   "source": [
    "print(\"Number of NaN values in  contry's columns:\")\n",
    "print(databasecontries.isnull().sum())\n",
    "#databasecontries=datacountries.dropna()/ fillna()\n",
    "print(\"Number of NaN values in  continent's columns:\")\n",
    "print(databasecontinents.isnull().sum())"
   ]
  },
  {
   "cell_type": "markdown",
   "id": "0f28305b",
   "metadata": {},
   "source": [
    "Checking data types:\n"
   ]
  },
  {
   "cell_type": "code",
   "execution_count": 20,
   "id": "a0d96ded",
   "metadata": {},
   "outputs": [
    {
     "name": "stdout",
     "output_type": "stream",
     "text": [
      "Entity            object\n",
      "Year               int64\n",
      "Schizophrenia    float64\n",
      "Depressive       float64\n",
      "Anxiety          float64\n",
      "Bipolar          float64\n",
      "Eating           float64\n",
      "dtype: object\n",
      "['Afghanistan' 'Africa (IHME GBD)' 'Albania' 'Algeria'\n",
      " 'America (IHME GBD)' 'American Samoa' 'Andorra' 'Angola'\n",
      " 'Antigua and Barbuda' 'Argentina' 'Armenia' 'Asia (IHME GBD)' 'Australia'\n",
      " 'Austria' 'Azerbaijan' 'Bahamas' 'Bahrain' 'Bangladesh' 'Barbados'\n",
      " 'Belarus' 'Belgium' 'Belize' 'Benin' 'Bermuda' 'Bhutan' 'Bolivia'\n",
      " 'Bosnia and Herzegovina' 'Botswana' 'Brazil' 'Brunei' 'Bulgaria'\n",
      " 'Burkina Faso' 'Burundi' 'Cambodia' 'Cameroon' 'Canada' 'Cape Verde'\n",
      " 'Central African Republic' 'Chad' 'Chile' 'China' 'Colombia' 'Comoros'\n",
      " 'Congo' 'Cook Islands' 'Costa Rica' \"Cote d'Ivoire\" 'Croatia' 'Cuba'\n",
      " 'Cyprus' 'Czechia' 'Democratic Republic of Congo' 'Denmark' 'Djibouti'\n",
      " 'Dominica' 'Dominican Republic' 'East Timor' 'Ecuador' 'Egypt'\n",
      " 'El Salvador' 'Equatorial Guinea' 'Eritrea' 'Estonia' 'Eswatini'\n",
      " 'Ethiopia' 'Europe (IHME GBD)' 'European Union (27)' 'Fiji' 'Finland'\n",
      " 'France' 'Gabon' 'Gambia' 'Georgia' 'Germany' 'Ghana' 'Greece'\n",
      " 'Greenland' 'Grenada' 'Guam' 'Guatemala' 'Guinea' 'Guinea-Bissau'\n",
      " 'Guyana' 'Haiti' 'High-income countries' 'Honduras' 'Hungary' 'Iceland'\n",
      " 'India' 'Indonesia' 'Iran' 'Iraq' 'Ireland' 'Israel' 'Italy' 'Jamaica'\n",
      " 'Japan' 'Jordan' 'Kazakhstan' 'Kenya' 'Kiribati' 'Kuwait' 'Kyrgyzstan'\n",
      " 'Laos' 'Latvia' 'Lebanon' 'Lesotho' 'Liberia' 'Libya' 'Lithuania'\n",
      " 'Low-income countries' 'Lower-middle-income countries' 'Luxembourg'\n",
      " 'Madagascar' 'Malawi' 'Malaysia' 'Maldives' 'Mali' 'Malta'\n",
      " 'Marshall Islands' 'Mauritania' 'Mauritius' 'Mexico'\n",
      " 'Micronesia (country)' 'Moldova' 'Monaco' 'Mongolia' 'Montenegro'\n",
      " 'Morocco' 'Mozambique' 'Myanmar' 'Namibia' 'Nauru' 'Nepal' 'Netherlands'\n",
      " 'New Zealand' 'Nicaragua' 'Niger' 'Nigeria' 'Niue' 'North Korea'\n",
      " 'North Macedonia' 'Northern Mariana Islands' 'Norway' 'Oman' 'Pakistan'\n",
      " 'Palau' 'Palestine' 'Panama' 'Papua New Guinea' 'Paraguay' 'Peru'\n",
      " 'Philippines' 'Poland' 'Portugal' 'Puerto Rico' 'Qatar' 'Romania'\n",
      " 'Russia' 'Rwanda' 'Saint Kitts and Nevis' 'Saint Lucia'\n",
      " 'Saint Vincent and the Grenadines' 'Samoa' 'San Marino'\n",
      " 'Sao Tome and Principe' 'Saudi Arabia' 'Senegal' 'Serbia' 'Seychelles'\n",
      " 'Sierra Leone' 'Singapore' 'Slovakia' 'Slovenia' 'Solomon Islands'\n",
      " 'Somalia' 'South Africa' 'South Korea' 'South Sudan' 'Spain' 'Sri Lanka'\n",
      " 'Sudan' 'Suriname' 'Sweden' 'Switzerland' 'Syria' 'Taiwan' 'Tajikistan'\n",
      " 'Tanzania' 'Thailand' 'Togo' 'Tokelau' 'Tonga' 'Trinidad and Tobago'\n",
      " 'Tunisia' 'Turkey' 'Turkmenistan' 'Tuvalu' 'Uganda' 'Ukraine'\n",
      " 'United Arab Emirates' 'United Kingdom' 'United States'\n",
      " 'United States Virgin Islands' 'Upper-middle-income countries' 'Uruguay'\n",
      " 'Uzbekistan' 'Vanuatu' 'Venezuela' 'Vietnam' 'World' 'Yemen' 'Zambia'\n",
      " 'Zimbabwe']\n"
     ]
    }
   ],
   "source": [
    "print(databasecontries.dtypes)\n",
    "print(database12[\"Entity\"].unique())"
   ]
  },
  {
   "cell_type": "markdown",
   "id": "b678967b",
   "metadata": {},
   "source": [
    "Data should be clean"
   ]
  }
 ],
 "metadata": {
  "kernelspec": {
   "display_name": "Python 3",
   "language": "python",
   "name": "python3"
  },
  "language_info": {
   "codemirror_mode": {
    "name": "ipython",
    "version": 3
   },
   "file_extension": ".py",
   "mimetype": "text/x-python",
   "name": "python",
   "nbconvert_exporter": "python",
   "pygments_lexer": "ipython3",
   "version": "3.13.3"
  }
 },
 "nbformat": 4,
 "nbformat_minor": 5
}
